{
  "nbformat": 4,
  "nbformat_minor": 0,
  "metadata": {
    "colab": {
      "provenance": []
    },
    "kernelspec": {
      "name": "python3",
      "display_name": "Python 3"
    },
    "language_info": {
      "name": "python"
    }
  },
  "cells": [
    {
      "cell_type": "code",
      "source": [
        "!pip install pyspark"
      ],
      "metadata": {
        "colab": {
          "base_uri": "https://localhost:8080/"
        },
        "id": "Mp-3kOflFogB",
        "outputId": "715dcc1a-30d7-4efe-b98b-777ba638d048"
      },
      "execution_count": 1,
      "outputs": [
        {
          "output_type": "stream",
          "name": "stdout",
          "text": [
            "Requirement already satisfied: pyspark in /usr/local/lib/python3.10/dist-packages (3.4.1)\n",
            "Requirement already satisfied: py4j==0.10.9.7 in /usr/local/lib/python3.10/dist-packages (from pyspark) (0.10.9.7)\n"
          ]
        }
      ]
    },
    {
      "cell_type": "markdown",
      "source": [
        "##Установка и настройка Kafka:"
      ],
      "metadata": {
        "id": "7aBXkD7XwFUW"
      }
    },
    {
      "cell_type": "code",
      "source": [
        "!curl -sSOL https://dlcdn.apache.org/kafka/3.5.0/kafka_2.13-3.5.0.tgz\n",
        "\n",
        "!tar -xzf kafka_2.13-3.5.0.tgz"
      ],
      "metadata": {
        "id": "iWJ2vh6_9C35"
      },
      "execution_count": 2,
      "outputs": []
    },
    {
      "cell_type": "code",
      "source": [
        "!./kafka_2.13-3.5.0/bin/zookeeper-server-start.sh -daemon ./kafka_2.13-3.5.0/config/zookeeper.properties\n",
        "!./kafka_2.13-3.5.0/bin/kafka-server-start.sh -daemon ./kafka_2.13-3.5.0/config/server.properties\n",
        "!echo \"Waiting for 10 secs until kafka and zookeeper services are up and running\"\n",
        "!sleep 10\n"
      ],
      "metadata": {
        "colab": {
          "base_uri": "https://localhost:8080/"
        },
        "id": "v4M26r82fX0L",
        "outputId": "3f60eb4f-a450-4e70-ac54-3ee133bb82f2"
      },
      "execution_count": 3,
      "outputs": [
        {
          "output_type": "stream",
          "name": "stdout",
          "text": [
            "Waiting for 10 secs until kafka and zookeeper services are up and running\n"
          ]
        }
      ]
    },
    {
      "cell_type": "code",
      "source": [
        "!ps -ef | grep kafka"
      ],
      "metadata": {
        "colab": {
          "base_uri": "https://localhost:8080/"
        },
        "id": "k0ThMbaM_WuU",
        "outputId": "eede7037-460c-463f-80b8-5552719ebb30"
      },
      "execution_count": 4,
      "outputs": [
        {
          "output_type": "stream",
          "name": "stdout",
          "text": [
            "root       51035       1  0 10:00 ?        00:00:12 /usr/lib/jvm/java-8-openjdk-amd64/bin/java -Xmx512M -Xms512M -server -XX:+UseG1GC -XX:MaxGCPauseMillis=20 -XX:InitiatingHeapOccupancyPercent=35 -XX:+ExplicitGCInvokesConcurrent -XX:MaxInlineLevel=15 -Djava.awt.headless=true -Xloggc:/content/kafka_2.13-3.5.0/bin/../logs/zookeeper-gc.log -verbose:gc -XX:+PrintGCDetails -XX:+PrintGCDateStamps -XX:+PrintGCTimeStamps -XX:+UseGCLogFileRotation -XX:NumberOfGCLogFiles=10 -XX:GCLogFileSize=100M -Dcom.sun.management.jmxremote -Dcom.sun.management.jmxremote.authenticate=false -Dcom.sun.management.jmxremote.ssl=false -Dkafka.logs.dir=/content/kafka_2.13-3.5.0/bin/../logs -Dlog4j.configuration=file:./kafka_2.13-3.5.0/bin/../config/log4j.properties -cp /content/kafka_2.13-3.5.0/bin/../libs/activation-1.1.1.jar:/content/kafka_2.13-3.5.0/bin/../libs/aopalliance-repackaged-2.6.1.jar:/content/kafka_2.13-3.5.0/bin/../libs/argparse4j-0.7.0.jar:/content/kafka_2.13-3.5.0/bin/../libs/audience-annotations-0.13.0.jar:/content/kafka_2.13-3.5.0/bin/../libs/commons-cli-1.4.jar:/content/kafka_2.13-3.5.0/bin/../libs/commons-lang3-3.8.1.jar:/content/kafka_2.13-3.5.0/bin/../libs/connect-api-3.5.0.jar:/content/kafka_2.13-3.5.0/bin/../libs/connect-basic-auth-extension-3.5.0.jar:/content/kafka_2.13-3.5.0/bin/../libs/connect-json-3.5.0.jar:/content/kafka_2.13-3.5.0/bin/../libs/connect-mirror-3.5.0.jar:/content/kafka_2.13-3.5.0/bin/../libs/connect-mirror-client-3.5.0.jar:/content/kafka_2.13-3.5.0/bin/../libs/connect-runtime-3.5.0.jar:/content/kafka_2.13-3.5.0/bin/../libs/connect-transforms-3.5.0.jar:/content/kafka_2.13-3.5.0/bin/../libs/hk2-api-2.6.1.jar:/content/kafka_2.13-3.5.0/bin/../libs/hk2-locator-2.6.1.jar:/content/kafka_2.13-3.5.0/bin/../libs/hk2-utils-2.6.1.jar:/content/kafka_2.13-3.5.0/bin/../libs/jackson-annotations-2.13.5.jar:/content/kafka_2.13-3.5.0/bin/../libs/jackson-core-2.13.5.jar:/content/kafka_2.13-3.5.0/bin/../libs/jackson-databind-2.13.5.jar:/content/kafka_2.13-3.5.0/bin/../libs/jackson-dataformat-csv-2.13.5.jar:/content/kafka_2.13-3.5.0/bin/../libs/jackson-datatype-jdk8-2.13.5.jar:/content/kafka_2.13-3.5.0/bin/../libs/jackson-jaxrs-base-2.13.5.jar:/content/kafka_2.13-3.5.0/bin/../libs/jackson-jaxrs-json-provider-2.13.5.jar:/content/kafka_2.13-3.5.0/bin/../libs/jackson-module-jaxb-annotations-2.13.5.jar:/content/kafka_2.13-3.5.0/bin/../libs/jackson-module-scala_2.13-2.13.5.jar:/content/kafka_2.13-3.5.0/bin/../libs/jakarta.activation-api-1.2.2.jar:/content/kafka_2.13-3.5.0/bin/../libs/jakarta.annotation-api-1.3.5.jar:/content/kafka_2.13-3.5.0/bin/../libs/jakarta.inject-2.6.1.jar:/content/kafka_2.13-3.5.0/bin/../libs/jakarta.validation-api-2.0.2.jar:/content/kafka_2.13-3.5.0/bin/../libs/jakarta.ws.rs-api-2.1.6.jar:/content/kafka_2.13-3.5.0/bin/../libs/jakarta.xml.bind-api-2.3.3.jar:/content/kafka_2.13-3.5.0/bin/../libs/javassist-3.29.2-GA.jar:/content/kafka_2.13-3.5.0/bin/../libs/javax.activation-api-1.2.0.jar:/content/kafka_2.13-3.5.0/bin/../libs/javax.annotation-api-1.3.2.jar:/content/kafka_2.13-3.5.0/bin/../libs/javax.servlet-api-3.1.0.jar:/content/kafka_2.13-3.5.0/bin/../libs/javax.ws.rs-api-2.1.1.jar:/content/kafka_2.13-3.5.0/bin/../libs/jaxb-api-2.3.1.jar:/content/kafka_2.13-3.5.0/bin/../libs/jersey-client-2.39.1.jar:/content/kafka_2.13-3.5.0/bin/../libs/jersey-common-2.39.1.jar:/content/kafka_2.13-3.5.0/bin/../libs/jersey-container-servlet-2.39.1.jar:/content/kafka_2.13-3.5.0/bin/../libs/jersey-container-servlet-core-2.39.1.jar:/content/kafka_2.13-3.5.0/bin/../libs/jersey-hk2-2.39.1.jar:/content/kafka_2.13-3.5.0/bin/../libs/jersey-server-2.39.1.jar:/content/kafka_2.13-3.5.0/bin/../libs/jetty-client-9.4.51.v20230217.jar:/content/kafka_2.13-3.5.0/bin/../libs/jetty-continuation-9.4.51.v20230217.jar:/content/kafka_2.13-3.5.0/bin/../libs/jetty-http-9.4.51.v20230217.jar:/content/kafka_2.13-3.5.0/bin/../libs/jetty-io-9.4.51.v20230217.jar:/content/kafka_2.13-3.5.0/bin/../libs/jetty-security-9.4.51.v20230217.jar:/content/kafka_2.13-3.5.0/bin/../libs/jetty-server-9.4.51.v20230217.jar:/content/kafka_2.13-3.5.0/bin/../libs/jetty-servlet-9.4.51.v20230217.jar:/content/kafka_2.13-3.5.0/bin/../libs/jetty-servlets-9.4.51.v20230217.jar:/content/kafka_2.13-3.5.0/bin/../libs/jetty-util-9.4.51.v20230217.jar:/content/kafka_2.13-3.5.0/bin/../libs/jetty-util-ajax-9.4.51.v20230217.jar:/content/kafka_2.13-3.5.0/bin/../libs/jline-3.22.0.jar:/content/kafka_2.13-3.5.0/bin/../libs/jopt-simple-5.0.4.jar:/content/kafka_2.13-3.5.0/bin/../libs/jose4j-0.9.3.jar:/content/kafka_2.13-3.5.0/bin/../libs/kafka_2.13-3.5.0.jar:/content/kafka_2.13-3.5.0/bin/../libs/kafka-clients-3.5.0.jar:/content/kafka_2.13-3.5.0/bin/../libs/kafka-group-coordinator-3.5.0.jar:/content/kafka_2.13-3.5.0/bin/../libs/kafka-log4j-appender-3.5.0.jar:/content/kafka_2.13-3.5.0/bin/../libs/kafka-metadata-3.5.0.jar:/content/kafka_2.13-3.5.0/bin/../libs/kafka-raft-3.5.0.jar:/content/kafka_2.13-3.5.0/bin/../libs/kafka-server-common-3.5.0.jar:/content/kafka_2.13-3.5.0/bin/../libs/kafka-shell-3.5.0.jar:/content/kafka_2.13-3.5.0/bin/../libs/kafka-storage-3.5.0.jar:/content/kafka_2.13-3.5.0/bin/../libs/kafka-storage-api-3.5.0.jar:/content/kafka_2.13-3.5.0/bin/../libs/kafka-streams-3.5.0.jar:/content/kafka_2.13-3.5.0/bin/../libs/kafka-streams-examples-3.5.0.jar:/content/kafka_2.13-3.5.0/bin/../libs/kafka-streams-scala_2.13-3.5.0.jar:/content/kafka_2.13-3.5.0/bin/../libs/kafka-streams-test-utils-3.5.0.jar:/content/kafka_2.13-3.5.0/bin/../libs/kafka-tools-3.5.0.jar:/content/kafka_2.13-3.5.0/bin/../libs/kafka-tools-api-3.5.0.jar:/content/kafka_2.13-3.5.0/bin/../libs/lz4-java-1.8.0.jar:/content/kafka_2.13-3.5.0/bin/../libs/maven-artifact-3.8.4.jar:/content/kafka_2.13-3.5.0/bin/../libs/metrics-core-2.2.0.jar:/content/kafka_2.13-3.5.0/bin/../libs/metrics-core-4.1.12.1.jar:/content/kafka_2.13-3.5.0/bin/../libs/netty-buffer-4.1.92.Final.jar:/content/kafka_2.13-3.5.0/bin/../libs/netty-codec-4.1.92.Final.jar:/content/kafka_2.13-3.5.0/bin/../libs/netty-common-4.1.92.Final.jar:/content/kafka_2.13-3.5.0/bin/../libs/netty-handler-4.1.92.Final.jar:/content/kafka_2.13-3.5.0/bin/../libs/netty-resolver-4.1.92.Final.jar:/content/kafka_2.13-3.5.0/bin/../libs/netty-transport-4.1.92.Final.jar:/content/kafka_2.13-3.5.0/bin/../libs/netty-transport-classes-epoll-4.1.92.Final.jar:/content/kafka_2.13-3.5.0/bin/../libs/netty-transport-native-epoll-4.1.92.Final.jar:/content/kafka_2.13-3.5.0/bin/../libs/netty-transport-native-unix-common-4.1.92.Final.jar:/content/kafka_2.13-3.5.0/bin/../libs/osgi-resource-locator-1.0.3.jar:/content/kafka_2.13-3.5.0/bin/../libs/paranamer-2.8.jar:/content/kafka_2.13-3.5.0/bin/../libs/plexus-utils-3.3.0.jar:/content/kafka_2.13-3.5.0/bin/../libs/reflections-0.9.12.jar:/content/kafka_2.13-3.5.0/bin/../libs/reload4j-1.2.25.jar:/content/kafka_2.13-3.5.0/bin/../libs/rocksdbjni-7.1.2.jar:/content/kafka_2.13-3.5.0/bin/../libs/scala-collection-compat_2.13-2.10.0.jar:/content/kafka_2.13-3.5.0/bin/../libs/scala-java8-compat_2.13-1.0.2.jar:/content/kafka_2.13-3.5.0/bin/../libs/scala-library-2.13.10.jar:/content/kafka_2.13-3.5.0/bin/../libs/scala-logging_2.13-3.9.4.jar:/content/kafka_2.13-3.5.0/bin/../libs/scala-reflect-2.13.10.jar:/content/kafka_2.13-3.5.0/bin/../libs/slf4j-api-1.7.36.jar:/content/kafka_2.13-3.5.0/bin/../libs/slf4j-reload4j-1.7.36.jar:/content/kafka_2.13-3.5.0/bin/../libs/snappy-java-1.1.10.0.jar:/content/kafka_2.13-3.5.0/bin/../libs/swagger-annotations-2.2.8.jar:/content/kafka_2.13-3.5.0/bin/../libs/trogdor-3.5.0.jar:/content/kafka_2.13-3.5.0/bin/../libs/zookeeper-3.6.4.jar:/content/kafka_2.13-3.5.0/bin/../libs/zookeeper-jute-3.6.4.jar:/content/kafka_2.13-3.5.0/bin/../libs/zstd-jni-1.5.5-1.jar org.apache.zookeeper.server.quorum.QuorumPeerMain ./kafka_2.13-3.5.0/config/zookeeper.properties\n",
            "root       51509       1  0 10:01 ?        00:01:09 /usr/lib/jvm/java-8-openjdk-amd64/bin/java -Xmx1G -Xms1G -server -XX:+UseG1GC -XX:MaxGCPauseMillis=20 -XX:InitiatingHeapOccupancyPercent=35 -XX:+ExplicitGCInvokesConcurrent -XX:MaxInlineLevel=15 -Djava.awt.headless=true -Xloggc:/content/kafka_2.13-3.5.0/bin/../logs/kafkaServer-gc.log -verbose:gc -XX:+PrintGCDetails -XX:+PrintGCDateStamps -XX:+PrintGCTimeStamps -XX:+UseGCLogFileRotation -XX:NumberOfGCLogFiles=10 -XX:GCLogFileSize=100M -Dcom.sun.management.jmxremote -Dcom.sun.management.jmxremote.authenticate=false -Dcom.sun.management.jmxremote.ssl=false -Dkafka.logs.dir=/content/kafka_2.13-3.5.0/bin/../logs -Dlog4j.configuration=file:./kafka_2.13-3.5.0/bin/../config/log4j.properties -cp /content/kafka_2.13-3.5.0/bin/../libs/activation-1.1.1.jar:/content/kafka_2.13-3.5.0/bin/../libs/aopalliance-repackaged-2.6.1.jar:/content/kafka_2.13-3.5.0/bin/../libs/argparse4j-0.7.0.jar:/content/kafka_2.13-3.5.0/bin/../libs/audience-annotations-0.13.0.jar:/content/kafka_2.13-3.5.0/bin/../libs/commons-cli-1.4.jar:/content/kafka_2.13-3.5.0/bin/../libs/commons-lang3-3.8.1.jar:/content/kafka_2.13-3.5.0/bin/../libs/connect-api-3.5.0.jar:/content/kafka_2.13-3.5.0/bin/../libs/connect-basic-auth-extension-3.5.0.jar:/content/kafka_2.13-3.5.0/bin/../libs/connect-json-3.5.0.jar:/content/kafka_2.13-3.5.0/bin/../libs/connect-mirror-3.5.0.jar:/content/kafka_2.13-3.5.0/bin/../libs/connect-mirror-client-3.5.0.jar:/content/kafka_2.13-3.5.0/bin/../libs/connect-runtime-3.5.0.jar:/content/kafka_2.13-3.5.0/bin/../libs/connect-transforms-3.5.0.jar:/content/kafka_2.13-3.5.0/bin/../libs/hk2-api-2.6.1.jar:/content/kafka_2.13-3.5.0/bin/../libs/hk2-locator-2.6.1.jar:/content/kafka_2.13-3.5.0/bin/../libs/hk2-utils-2.6.1.jar:/content/kafka_2.13-3.5.0/bin/../libs/jackson-annotations-2.13.5.jar:/content/kafka_2.13-3.5.0/bin/../libs/jackson-core-2.13.5.jar:/content/kafka_2.13-3.5.0/bin/../libs/jackson-databind-2.13.5.jar:/content/kafka_2.13-3.5.0/bin/../libs/jackson-dataformat-csv-2.13.5.jar:/content/kafka_2.13-3.5.0/bin/../libs/jackson-datatype-jdk8-2.13.5.jar:/content/kafka_2.13-3.5.0/bin/../libs/jackson-jaxrs-base-2.13.5.jar:/content/kafka_2.13-3.5.0/bin/../libs/jackson-jaxrs-json-provider-2.13.5.jar:/content/kafka_2.13-3.5.0/bin/../libs/jackson-module-jaxb-annotations-2.13.5.jar:/content/kafka_2.13-3.5.0/bin/../libs/jackson-module-scala_2.13-2.13.5.jar:/content/kafka_2.13-3.5.0/bin/../libs/jakarta.activation-api-1.2.2.jar:/content/kafka_2.13-3.5.0/bin/../libs/jakarta.annotation-api-1.3.5.jar:/content/kafka_2.13-3.5.0/bin/../libs/jakarta.inject-2.6.1.jar:/content/kafka_2.13-3.5.0/bin/../libs/jakarta.validation-api-2.0.2.jar:/content/kafka_2.13-3.5.0/bin/../libs/jakarta.ws.rs-api-2.1.6.jar:/content/kafka_2.13-3.5.0/bin/../libs/jakarta.xml.bind-api-2.3.3.jar:/content/kafka_2.13-3.5.0/bin/../libs/javassist-3.29.2-GA.jar:/content/kafka_2.13-3.5.0/bin/../libs/javax.activation-api-1.2.0.jar:/content/kafka_2.13-3.5.0/bin/../libs/javax.annotation-api-1.3.2.jar:/content/kafka_2.13-3.5.0/bin/../libs/javax.servlet-api-3.1.0.jar:/content/kafka_2.13-3.5.0/bin/../libs/javax.ws.rs-api-2.1.1.jar:/content/kafka_2.13-3.5.0/bin/../libs/jaxb-api-2.3.1.jar:/content/kafka_2.13-3.5.0/bin/../libs/jersey-client-2.39.1.jar:/content/kafka_2.13-3.5.0/bin/../libs/jersey-common-2.39.1.jar:/content/kafka_2.13-3.5.0/bin/../libs/jersey-container-servlet-2.39.1.jar:/content/kafka_2.13-3.5.0/bin/../libs/jersey-container-servlet-core-2.39.1.jar:/content/kafka_2.13-3.5.0/bin/../libs/jersey-hk2-2.39.1.jar:/content/kafka_2.13-3.5.0/bin/../libs/jersey-server-2.39.1.jar:/content/kafka_2.13-3.5.0/bin/../libs/jetty-client-9.4.51.v20230217.jar:/content/kafka_2.13-3.5.0/bin/../libs/jetty-continuation-9.4.51.v20230217.jar:/content/kafka_2.13-3.5.0/bin/../libs/jetty-http-9.4.51.v20230217.jar:/content/kafka_2.13-3.5.0/bin/../libs/jetty-io-9.4.51.v20230217.jar:/content/kafka_2.13-3.5.0/bin/../libs/jetty-security-9.4.51.v20230217.jar:/content/kafka_2.13-3.5.0/bin/../libs/jetty-server-9.4.51.v20230217.jar:/content/kafka_2.13-3.5.0/bin/../libs/jetty-servlet-9.4.51.v20230217.jar:/content/kafka_2.13-3.5.0/bin/../libs/jetty-servlets-9.4.51.v20230217.jar:/content/kafka_2.13-3.5.0/bin/../libs/jetty-util-9.4.51.v20230217.jar:/content/kafka_2.13-3.5.0/bin/../libs/jetty-util-ajax-9.4.51.v20230217.jar:/content/kafka_2.13-3.5.0/bin/../libs/jline-3.22.0.jar:/content/kafka_2.13-3.5.0/bin/../libs/jopt-simple-5.0.4.jar:/content/kafka_2.13-3.5.0/bin/../libs/jose4j-0.9.3.jar:/content/kafka_2.13-3.5.0/bin/../libs/kafka_2.13-3.5.0.jar:/content/kafka_2.13-3.5.0/bin/../libs/kafka-clients-3.5.0.jar:/content/kafka_2.13-3.5.0/bin/../libs/kafka-group-coordinator-3.5.0.jar:/content/kafka_2.13-3.5.0/bin/../libs/kafka-log4j-appender-3.5.0.jar:/content/kafka_2.13-3.5.0/bin/../libs/kafka-metadata-3.5.0.jar:/content/kafka_2.13-3.5.0/bin/../libs/kafka-raft-3.5.0.jar:/content/kafka_2.13-3.5.0/bin/../libs/kafka-server-common-3.5.0.jar:/content/kafka_2.13-3.5.0/bin/../libs/kafka-shell-3.5.0.jar:/content/kafka_2.13-3.5.0/bin/../libs/kafka-storage-3.5.0.jar:/content/kafka_2.13-3.5.0/bin/../libs/kafka-storage-api-3.5.0.jar:/content/kafka_2.13-3.5.0/bin/../libs/kafka-streams-3.5.0.jar:/content/kafka_2.13-3.5.0/bin/../libs/kafka-streams-examples-3.5.0.jar:/content/kafka_2.13-3.5.0/bin/../libs/kafka-streams-scala_2.13-3.5.0.jar:/content/kafka_2.13-3.5.0/bin/../libs/kafka-streams-test-utils-3.5.0.jar:/content/kafka_2.13-3.5.0/bin/../libs/kafka-tools-3.5.0.jar:/content/kafka_2.13-3.5.0/bin/../libs/kafka-tools-api-3.5.0.jar:/content/kafka_2.13-3.5.0/bin/../libs/lz4-java-1.8.0.jar:/content/kafka_2.13-3.5.0/bin/../libs/maven-artifact-3.8.4.jar:/content/kafka_2.13-3.5.0/bin/../libs/metrics-core-2.2.0.jar:/content/kafka_2.13-3.5.0/bin/../libs/metrics-core-4.1.12.1.jar:/content/kafka_2.13-3.5.0/bin/../libs/netty-buffer-4.1.92.Final.jar:/content/kafka_2.13-3.5.0/bin/../libs/netty-codec-4.1.92.Final.jar:/content/kafka_2.13-3.5.0/bin/../libs/netty-common-4.1.92.Final.jar:/content/kafka_2.13-3.5.0/bin/../libs/netty-handler-4.1.92.Final.jar:/content/kafka_2.13-3.5.0/bin/../libs/netty-resolver-4.1.92.Final.jar:/content/kafka_2.13-3.5.0/bin/../libs/netty-transport-4.1.92.Final.jar:/content/kafka_2.13-3.5.0/bin/../libs/netty-transport-classes-epoll-4.1.92.Final.jar:/content/kafka_2.13-3.5.0/bin/../libs/netty-transport-native-epoll-4.1.92.Final.jar:/content/kafka_2.13-3.5.0/bin/../libs/netty-transport-native-unix-common-4.1.92.Final.jar:/content/kafka_2.13-3.5.0/bin/../libs/osgi-resource-locator-1.0.3.jar:/content/kafka_2.13-3.5.0/bin/../libs/paranamer-2.8.jar:/content/kafka_2.13-3.5.0/bin/../libs/plexus-utils-3.3.0.jar:/content/kafka_2.13-3.5.0/bin/../libs/reflections-0.9.12.jar:/content/kafka_2.13-3.5.0/bin/../libs/reload4j-1.2.25.jar:/content/kafka_2.13-3.5.0/bin/../libs/rocksdbjni-7.1.2.jar:/content/kafka_2.13-3.5.0/bin/../libs/scala-collection-compat_2.13-2.10.0.jar:/content/kafka_2.13-3.5.0/bin/../libs/scala-java8-compat_2.13-1.0.2.jar:/content/kafka_2.13-3.5.0/bin/../libs/scala-library-2.13.10.jar:/content/kafka_2.13-3.5.0/bin/../libs/scala-logging_2.13-3.9.4.jar:/content/kafka_2.13-3.5.0/bin/../libs/scala-reflect-2.13.10.jar:/content/kafka_2.13-3.5.0/bin/../libs/slf4j-api-1.7.36.jar:/content/kafka_2.13-3.5.0/bin/../libs/slf4j-reload4j-1.7.36.jar:/content/kafka_2.13-3.5.0/bin/../libs/snappy-java-1.1.10.0.jar:/content/kafka_2.13-3.5.0/bin/../libs/swagger-annotations-2.2.8.jar:/content/kafka_2.13-3.5.0/bin/../libs/trogdor-3.5.0.jar:/content/kafka_2.13-3.5.0/bin/../libs/zookeeper-3.6.4.jar:/content/kafka_2.13-3.5.0/bin/../libs/zookeeper-jute-3.6.4.jar:/content/kafka_2.13-3.5.0/bin/../libs/zstd-jni-1.5.5-1.jar kafka.Kafka ./kafka_2.13-3.5.0/config/server.properties\n",
            "root      109852  108918  0 12:01 ?        00:00:00 /bin/bash -c ps -ef | grep kafka\n",
            "root      109854  109852  0 12:01 ?        00:00:00 grep kafka\n"
          ]
        }
      ]
    },
    {
      "cell_type": "markdown",
      "source": [
        "##Создадим топик с параметрами: partitions=2, replication-factor=1\n"
      ],
      "metadata": {
        "id": "X3pR0Lp1GSwj"
      }
    },
    {
      "cell_type": "code",
      "source": [
        "!./kafka_2.13-3.5.0/bin/kafka-topics.sh --create --bootstrap-server 127.0.0.1:9092 --replication-factor 1 --partitions 2 --topic testtopic\n"
      ],
      "metadata": {
        "colab": {
          "base_uri": "https://localhost:8080/"
        },
        "id": "LmlyjemX-eVk",
        "outputId": "cb69f9b5-9294-465b-bd61-4e346dbeeeba"
      },
      "execution_count": 5,
      "outputs": [
        {
          "output_type": "stream",
          "name": "stdout",
          "text": [
            "Created topic testtopic.\n"
          ]
        }
      ]
    },
    {
      "cell_type": "code",
      "source": [
        "!./kafka_2.13-3.5.0/bin/kafka-topics.sh  --list --bootstrap-server localhost:9092"
      ],
      "metadata": {
        "colab": {
          "base_uri": "https://localhost:8080/"
        },
        "id": "H9bM7ZVXXD0k",
        "outputId": "25b5078b-db21-480f-dd54-fb9f13a6353f"
      },
      "execution_count": 6,
      "outputs": [
        {
          "output_type": "stream",
          "name": "stdout",
          "text": [
            "__consumer_offsets\n",
            "testtopic\n"
          ]
        }
      ]
    },
    {
      "cell_type": "markdown",
      "source": [
        "##Проверим"
      ],
      "metadata": {
        "id": "y2hvFQDlxOjs"
      }
    },
    {
      "cell_type": "code",
      "source": [
        "!./kafka_2.13-3.5.0/bin/kafka-topics.sh --describe --bootstrap-server 127.0.0.1:9092 --topic testtopic"
      ],
      "metadata": {
        "colab": {
          "base_uri": "https://localhost:8080/"
        },
        "id": "N5yt0vBP-3Hx",
        "outputId": "7d92b225-9d97-4d4c-ea42-eb854074da97"
      },
      "execution_count": 7,
      "outputs": [
        {
          "output_type": "stream",
          "name": "stdout",
          "text": [
            "Topic: testtopic\tTopicId: jB_PF4cwR0qUCJqLROFH4w\tPartitionCount: 2\tReplicationFactor: 1\tConfigs: \n",
            "\tTopic: testtopic\tPartition: 0\tLeader: 0\tReplicas: 0\tIsr: 0\n",
            "\tTopic: testtopic\tPartition: 1\tLeader: 0\tReplicas: 0\tIsr: 0\n"
          ]
        }
      ]
    },
    {
      "cell_type": "markdown",
      "source": [
        "##Создадим продюсера и отправим несколько сообщений в топик"
      ],
      "metadata": {
        "id": "oaiOA8HVxRtT"
      }
    },
    {
      "cell_type": "code",
      "source": [
        "!./kafka_2.13-3.5.0/bin/kafka-console-producer.sh --broker-list localhost:9092 --topic testtopic"
      ],
      "metadata": {
        "id": "1b5Hsiz5Gb85",
        "colab": {
          "base_uri": "https://localhost:8080/"
        },
        "outputId": "47d10de0-6caf-4280-889c-5fab155edaa3"
      },
      "execution_count": 8,
      "outputs": [
        {
          "output_type": "stream",
          "name": "stdout",
          "text": [
            ">mes_1\n",
            ">mes_2\n",
            ">mes_3\n",
            ">mes_4\n",
            ">mes_5\n",
            ">"
          ]
        }
      ]
    },
    {
      "cell_type": "markdown",
      "source": [
        "##Создадим консьюмера и читаем отправленные сообщения\n",
        "\n",
        "\n"
      ],
      "metadata": {
        "id": "8tx9VDLixiGC"
      }
    },
    {
      "cell_type": "code",
      "source": [
        "!./kafka_2.13-3.5.0/bin/kafka-console-consumer.sh --topic testtopic --from-beginning --bootstrap-server localhost:9092"
      ],
      "metadata": {
        "colab": {
          "base_uri": "https://localhost:8080/"
        },
        "id": "SU-tNBNThvGV",
        "outputId": "0c4b8032-c88f-4485-c580-9e2f01fd6e1d"
      },
      "execution_count": 9,
      "outputs": [
        {
          "output_type": "stream",
          "name": "stdout",
          "text": [
            "mes_1\n",
            "mes_2\n",
            "mes_3\n",
            "mes_4\n",
            "mes_5\n",
            "Processed a total of 5 messages\n"
          ]
        }
      ]
    },
    {
      "cell_type": "markdown",
      "source": [
        "##Удалим топик"
      ],
      "metadata": {
        "id": "YpnjTuMHxKB1"
      }
    },
    {
      "cell_type": "code",
      "source": [
        "\n",
        "!./kafka_2.13-3.5.0/bin/kafka-topics.sh --bootstrap-server 127.0.0.1:9092 --delete --topic testtopic\n"
      ],
      "metadata": {
        "id": "G9wZvYqep4qE"
      },
      "execution_count": 10,
      "outputs": []
    },
    {
      "cell_type": "code",
      "source": [
        "!./kafka_2.13-3.5.0/bin/kafka-topics.sh  --list --bootstrap-server localhost:9092"
      ],
      "metadata": {
        "colab": {
          "base_uri": "https://localhost:8080/"
        },
        "id": "nJztQdGf6xtC",
        "outputId": "80b15f21-2e31-4fa9-83ef-2069d30c6861"
      },
      "execution_count": 11,
      "outputs": [
        {
          "output_type": "stream",
          "name": "stdout",
          "text": [
            "__consumer_offsets\n"
          ]
        }
      ]
    },
    {
      "cell_type": "markdown",
      "source": [
        "********************************"
      ],
      "metadata": {
        "id": "UqYbKFAPyNak"
      }
    }
  ]
}