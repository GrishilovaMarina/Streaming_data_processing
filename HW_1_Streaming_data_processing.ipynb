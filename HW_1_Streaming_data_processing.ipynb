{
  "nbformat": 4,
  "nbformat_minor": 0,
  "metadata": {
    "colab": {
      "provenance": []
    },
    "kernelspec": {
      "name": "python3",
      "display_name": "Python 3"
    },
    "language_info": {
      "name": "python"
    }
  },
  "cells": [
    {
      "cell_type": "code",
      "execution_count": 1,
      "metadata": {
        "colab": {
          "base_uri": "https://localhost:8080/"
        },
        "id": "g7WyGZ-YPDw3",
        "outputId": "acceb082-b63c-4847-b88b-ad453bebb93a"
      },
      "outputs": [
        {
          "output_type": "stream",
          "name": "stdout",
          "text": [
            "Requirement already satisfied: pyspark in /usr/local/lib/python3.10/dist-packages (3.4.1)\n",
            "Requirement already satisfied: py4j==0.10.9.7 in /usr/local/lib/python3.10/dist-packages (from pyspark) (0.10.9.7)\n"
          ]
        }
      ],
      "source": [
        "!pip install pyspark"
      ]
    },
    {
      "cell_type": "code",
      "source": [
        "from pyspark.sql import SparkSession\n",
        "from pyspark.sql import functions as F\n",
        "\n",
        "spark = SparkSession.builder\\\n",
        "        .master(\"local[4]\")\\\n",
        "        .appName(\"Colab_pyspark\")\\\n",
        "        .config('spark.ui.port', '4050')\\\n",
        "        .getOrCreate()"
      ],
      "metadata": {
        "id": "EcGdbEjIPMnh"
      },
      "execution_count": 2,
      "outputs": []
    },
    {
      "cell_type": "code",
      "source": [
        "sc = spark.sparkContext\n",
        "sc"
      ],
      "metadata": {
        "colab": {
          "base_uri": "https://localhost:8080/",
          "height": 196
        },
        "id": "bLzjxhI8PRRp",
        "outputId": "89ed2545-a7f5-4291-8493-b003f3a88812"
      },
      "execution_count": 3,
      "outputs": [
        {
          "output_type": "execute_result",
          "data": {
            "text/plain": [
              "<SparkContext master=local[4] appName=Colab_pyspark>"
            ],
            "text/html": [
              "\n",
              "        <div>\n",
              "            <p><b>SparkContext</b></p>\n",
              "\n",
              "            <p><a href=\"http://7a5d157b84a9:4050\">Spark UI</a></p>\n",
              "\n",
              "            <dl>\n",
              "              <dt>Version</dt>\n",
              "                <dd><code>v3.4.1</code></dd>\n",
              "              <dt>Master</dt>\n",
              "                <dd><code>local[4]</code></dd>\n",
              "              <dt>AppName</dt>\n",
              "                <dd><code>Colab_pyspark</code></dd>\n",
              "            </dl>\n",
              "        </div>\n",
              "        "
            ]
          },
          "metadata": {},
          "execution_count": 3
        }
      ]
    },
    {
      "cell_type": "code",
      "source": [
        "# Просмотр текущей конфигурации\n",
        "from pyspark import SparkConf\n",
        "\n",
        "SparkConf().getAll()"
      ],
      "metadata": {
        "colab": {
          "base_uri": "https://localhost:8080/"
        },
        "id": "FN8O5ddOPaWf",
        "outputId": "34036082-3bf8-48a1-b252-3574e7d1afe8"
      },
      "execution_count": 4,
      "outputs": [
        {
          "output_type": "execute_result",
          "data": {
            "text/plain": [
              "[('spark.ui.port', '4050'),\n",
              " ('spark.master', 'local[4]'),\n",
              " ('spark.app.name', 'Colab_pyspark'),\n",
              " ('spark.submit.pyFiles', ''),\n",
              " ('spark.submit.deployMode', 'client'),\n",
              " ('spark.app.submitTime', '1691655330875'),\n",
              " ('spark.ui.showConsoleProgress', 'true')]"
            ]
          },
          "metadata": {},
          "execution_count": 4
        }
      ]
    },
    {
      "cell_type": "code",
      "source": [
        "!ls -l -h"
      ],
      "metadata": {
        "colab": {
          "base_uri": "https://localhost:8080/"
        },
        "id": "BsMKKw1fQUo_",
        "outputId": "a92559ec-806a-40eb-f0f8-054850079451"
      },
      "execution_count": 5,
      "outputs": [
        {
          "output_type": "stream",
          "name": "stdout",
          "text": [
            "total 12K\n",
            "drwxr-xr-x 3 root root 4.0K Aug 10 07:55 files\n",
            "drwxr-xr-x 1 root root 4.0K Aug  8 13:38 sample_data\n",
            "drwxr-xr-x 3 root root 4.0K Aug 10 08:02 streaming\n"
          ]
        }
      ]
    },
    {
      "cell_type": "code",
      "source": [
        "pwd"
      ],
      "metadata": {
        "colab": {
          "base_uri": "https://localhost:8080/",
          "height": 35
        },
        "id": "O1FV9E88s7Ro",
        "outputId": "5b535070-3b88-49e9-f026-b4a8364e10ca"
      },
      "execution_count": 6,
      "outputs": [
        {
          "output_type": "execute_result",
          "data": {
            "text/plain": [
              "'/content'"
            ],
            "application/vnd.google.colaboratory.intrinsic+json": {
              "type": "string"
            }
          },
          "metadata": {},
          "execution_count": 6
        }
      ]
    },
    {
      "cell_type": "code",
      "source": [
        "df = spark.read.csv(\"/content/streaming/people.csv\", header=True, inferSchema=True, sep=';')"
      ],
      "metadata": {
        "id": "4V2SKDcPvKci"
      },
      "execution_count": 7,
      "outputs": []
    },
    {
      "cell_type": "code",
      "source": [
        "df.head(3)"
      ],
      "metadata": {
        "colab": {
          "base_uri": "https://localhost:8080/"
        },
        "id": "Ja6-KBllvegT",
        "outputId": "ca97d7b7-b734-4d7c-d660-b2e26871a9fe"
      },
      "execution_count": 8,
      "outputs": [
        {
          "output_type": "execute_result",
          "data": {
            "text/plain": [
              "[Row(person_ID,name,first,last,middle,email,phone,fax,title='3130,\"Burks, Rosella \",Rosella,Burks,,BurksR@univ.edu,963.555.1253,963.777.4065,Professor '),\n",
              " Row(person_ID,name,first,last,middle,email,phone,fax,title='3297,\"Avila, Damien \",Damien,Avila,,AvilaD@univ.edu,963.555.1352,963.777.7914,Professor '),\n",
              " Row(person_ID,name,first,last,middle,email,phone,fax,title='3547,\"Olsen, Robin \",Robin,Olsen,,OlsenR@univ.edu,963.555.1378,963.777.9262,Assistant Professor')]"
            ]
          },
          "metadata": {},
          "execution_count": 8
        }
      ]
    },
    {
      "cell_type": "code",
      "source": [
        "from pyspark.sql.types import *\n",
        "\n",
        "schema = StructType() \\\n",
        "  .add(\"person_ID\",IntegerType()) \\\n",
        "  .add(\"name\",StringType()) \\\n",
        "  .add(\"first\",StringType()) \\\n",
        "  .add(\"last\", StringType()) \\\n",
        "  .add(\"middle\", StringType()) \\\n",
        "  .add(\"email\", StringType()) \\\n",
        "  .add(\"phone\", StringType()) \\\n",
        "  .add(\"fax\", StringType()) \\\n",
        "  .add(\"title\", StringType())\n",
        "\n"
      ],
      "metadata": {
        "id": "AD0EOywrjS-7"
      },
      "execution_count": 9,
      "outputs": []
    },
    {
      "cell_type": "code",
      "source": [
        "def killAll():\n",
        "  for active_stream in spark.streams.active:\n",
        "        print(\"Stopping %s by killAll\" % active_stream)\n",
        "        active_stream.stop()\n",
        "\n",
        "def console_output(df, freq):\n",
        "     return df.writeStream \\\n",
        "         .format(\"console\") \\\n",
        "         .outputMode(\"append\") \\\n",
        "         .trigger(processingTime=f\"{freq} seconds\") \\\n",
        "         .options(truncate=False) \\\n",
        "         .start()\n",
        "\n",
        "\n",
        "raw_files = spark \\\n",
        "     .readStream \\\n",
        "     .format(\"csv\") \\\n",
        "     .schema(schema) \\\n",
        "     .options(path=\"/content/streaming/\", header=True) \\\n",
        "     .load()\n",
        "\n"
      ],
      "metadata": {
        "id": "nXA7HL8hnMi5"
      },
      "execution_count": 10,
      "outputs": []
    },
    {
      "cell_type": "code",
      "source": [
        "out = console_output(raw_files, 3)"
      ],
      "metadata": {
        "id": "bEQ42Crqqflc"
      },
      "execution_count": 11,
      "outputs": []
    },
    {
      "cell_type": "code",
      "source": [
        "killAll()"
      ],
      "metadata": {
        "id": "fTde40aAwEXi",
        "colab": {
          "base_uri": "https://localhost:8080/"
        },
        "outputId": "148016f7-d004-4014-f2c0-dc300157e8f9"
      },
      "execution_count": 12,
      "outputs": [
        {
          "output_type": "stream",
          "name": "stdout",
          "text": [
            "Stopping <pyspark.sql.streaming.query.StreamingQuery object at 0x7aa6c61d9600> by killAll\n"
          ]
        }
      ]
    }
  ]
}